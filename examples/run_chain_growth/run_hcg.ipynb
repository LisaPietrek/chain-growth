{
 "cells": [
  {
   "cell_type": "code",
   "execution_count": 1,
   "metadata": {},
   "outputs": [],
   "source": [
    "import sys\n",
    "sys.path.append('../../')\n",
    "from chain_growth.hcg_list import make_hcl_l\n",
    "from chain_growth.fragment_list import generate_fragment_list\n",
    "from chain_growth.hcg_fct import hierarchical_chain_growth"
   ]
  },
  {
   "cell_type": "markdown",
   "metadata": {},
   "source": [
    "# run hierarchical chain growth for short tau K18 example"
   ]
  },
  {
   "cell_type": "markdown",
   "metadata": {},
   "source": [
    "## prepare HCG\n",
    "### input file and path / output path"
   ]
  },
  {
   "cell_type": "code",
   "execution_count": 2,
   "metadata": {},
   "outputs": [],
   "source": [
    "## path to MD fragments\n",
    "path0 = '..'\n",
    "## path to store assembled models in\n",
    "path = 'truncated_tauK18/'\n",
    "# file with sequence, format: \"fasta\" or \"PDB\"\n",
    "sequence_f = 'truncated_tauK18_weighted/'"
   ]
  },
  {
   "cell_type": "markdown",
   "metadata": {},
   "source": [
    "### fragment construction"
   ]
  },
  {
   "cell_type": "code",
   "execution_count": 3,
   "metadata": {},
   "outputs": [],
   "source": [
    "# length of MD fragments (without the end-capping groups if present)\n",
    "fragment_length = 5\n",
    "# length of the residue overlap between subsequent fragments\n",
    "overlap = 2\n",
    "\n",
    "# generate list of fragments, dictionairy of overlaps between fragments\n",
    "# generating overlaps_d is necessary, since to match the full-ltngh sequennce\n",
    "# the overlap between e.g., the two last fragments can vary\n",
    "fragment_l, overlaps_d = generate_fragment_list(sequence_f, fragment_length, overlap)"
   ]
  },
  {
   "cell_type": "markdown",
   "metadata": {},
   "source": [
    "### lists for HCG"
   ]
  },
  {
   "cell_type": "code",
   "execution_count": 4,
   "metadata": {},
   "outputs": [
    {
     "name": "stdout",
     "output_type": "stream",
     "text": [
      "[['LEU', 'GLN', 'THR', 'ALA', 'PRO'], ['ALA', 'PRO', 'VAL', 'PRO', 'MET'], ['PRO', 'MET', 'PRO', 'ASP', 'LEU'], ['ASP', 'LEU', 'LYS', 'ASN', 'VAL'], ['ASN', 'VAL', 'LYS', 'SER', 'LYS'], ['SER', 'LYS', 'ILE', 'GLY', 'SER'], ['GLY', 'SER', 'THR', 'GLU', 'ASN'], ['GLU', 'ASN', 'LEU', 'LYS', 'HIS'], ['LYS', 'HIS', 'GLN', 'PRO', 'GLY'], ['PRO', 'GLY', 'GLY', 'GLY', 'LYS'], ['GLY', 'LYS', 'VAL', 'GLN', 'ILE'], ['GLN', 'ILE', 'ILE', 'ASN', 'LYS'], ['ASN', 'LYS', 'LYS', 'LEU', 'ASP'], ['LEU', 'ASP', 'LEU', 'SER', 'ASN'], ['ASP', 'LEU', 'SER', 'ASN', 'VAL']] {0: 2, 1: 2, 2: 2, 3: 2, 4: 2, 5: 2, 6: 2, 7: 2, 8: 2, 9: 2, 10: 2, 11: 2, 12: 2, 13: 2, 14: 4} 15\n"
     ]
    }
   ],
   "source": [
    "n_pairs = len(fragment_l)\n",
    "print(fragment_l, overlaps_d, n_pairs)\n",
    "\n",
    "# hcg_l : list of paired fragments\n",
    "# promo_l : list to evaluate if last fragment of level m in hcg_l is promoted to level m+1\n",
    "hcg_l, promo_l = make_hcl_l(n_pairs)"
   ]
  },
  {
   "cell_type": "code",
   "execution_count": 5,
   "metadata": {},
   "outputs": [],
   "source": [
    "# maximal number of pairs/full-length models to assemble\n",
    "kmax = 100\n",
    "# MD fragments are sampled with or without end-capping groups\n",
    "capping_groups = True"
   ]
  },
  {
   "cell_type": "markdown",
   "metadata": {},
   "source": [
    "## run HCG"
   ]
  },
  {
   "cell_type": "code",
   "execution_count": 6,
   "metadata": {},
   "outputs": [
    {
     "name": "stderr",
     "output_type": "stream",
     "text": [
      "/home/lisa/anaconda3/lib/python3.7/site-packages/MDAnalysis/topology/PDBParser.py:317: UserWarning: Element information is missing, elements attribute will not be populated. If needed these can be guessed using MDAnalysis.topology.guessers.\n",
      "  warnings.warn(\"Element information is missing, elements attribute \"\n",
      "/home/lisa/anaconda3/lib/python3.7/site-packages/MDAnalysis/coordinates/PDB.py:747: UserWarning: Unit cell dimensions not found. CRYST1 record set to unitary values.\n",
      "  warnings.warn(\"Unit cell dimensions not found. \"\n",
      "/home/lisa/anaconda3/lib/python3.7/site-packages/MDAnalysis/coordinates/PDB.py:1080: UserWarning: Found no information for attr: 'elements' Using default value of ' '\n",
      "  \"\".format(attrname, default))\n",
      "/home/lisa/anaconda3/lib/python3.7/site-packages/MDAnalysis/coordinates/PDB.py:1126: UserWarning: Found missing chainIDs. Corresponding atoms will use value of 'X'\n",
      "  \"\".format(default))\n"
     ]
    },
    {
     "name": "stdout",
     "output_type": "stream",
     "text": [
      "overlap in indices fct:  2 1 alnB alnE, 2 alnB alnE  [-3, -2, 1, 2]\n",
      "1 clashB, 2 clashE  [-3, 2]\n",
      "1 mergeB mergeE, 2 mergeB mergeE  [0, -3, 2, -1]\n",
      "level pair to grow, length old pair, old_pair1, old_pair2, overlap 1 MDfragments 0 1 2\n",
      "fragment 1  ['ALA' 'PRO']\n",
      "fragment 2  ['ALA' 'PRO']\n",
      "overlap in indices fct:  2 1 alnB alnE, 2 alnB alnE  [-3, -2, 1, 2]\n",
      "1 clashB, 2 clashE  [-3, 2]\n",
      "1 mergeB mergeE, 2 mergeB mergeE  [0, -3, 2, -1]\n",
      "level pair to grow, length old pair, old_pair1, old_pair2, overlap 1 MDfragments 2 3 2\n",
      "fragment 1  ['ASP' 'LEU']\n",
      "fragment 2  ['ASP' 'LEU']\n",
      "overlap in indices fct:  2 1 alnB alnE, 2 alnB alnE  [-3, -2, 1, 2]\n",
      "1 clashB, 2 clashE  [-3, 2]\n",
      "1 mergeB mergeE, 2 mergeB mergeE  [0, -3, 2, -1]\n",
      "level pair to grow, length old pair, old_pair1, old_pair2, overlap 1 MDfragments 4 5 2\n",
      "fragment 1  ['SER' 'LYS']\n",
      "fragment 2  ['SER' 'LYS']\n",
      "overlap in indices fct:  2 1 alnB alnE, 2 alnB alnE  [-3, -2, 1, 2]\n",
      "1 clashB, 2 clashE  [-3, 2]\n",
      "1 mergeB mergeE, 2 mergeB mergeE  [0, -3, 2, -1]\n",
      "level pair to grow, length old pair, old_pair1, old_pair2, overlap 1 MDfragments 6 7 2\n",
      "fragment 1  ['GLU' 'ASN']\n",
      "fragment 2  ['GLU' 'ASN']\n",
      "overlap in indices fct:  2 1 alnB alnE, 2 alnB alnE  [-3, -2, 1, 2]\n",
      "1 clashB, 2 clashE  [-3, 2]\n",
      "1 mergeB mergeE, 2 mergeB mergeE  [0, -3, 2, -1]\n",
      "level pair to grow, length old pair, old_pair1, old_pair2, overlap 1 MDfragments 8 9 2\n",
      "fragment 1  ['PRO' 'GLY']\n",
      "fragment 2  ['PRO' 'GLY']\n",
      "overlap in indices fct:  2 1 alnB alnE, 2 alnB alnE  [-3, -2, 1, 2]\n",
      "1 clashB, 2 clashE  [-3, 2]\n",
      "1 mergeB mergeE, 2 mergeB mergeE  [0, -3, 2, -1]\n",
      "level pair to grow, length old pair, old_pair1, old_pair2, overlap 1 MDfragments 10 11 2\n",
      "fragment 1  ['GLN' 'ILE']\n",
      "fragment 2  ['GLN' 'ILE']\n",
      "overlap in indices fct:  2 1 alnB alnE, 2 alnB alnE  [-3, -2, 1, 2]\n",
      "1 clashB, 2 clashE  [-3, 2]\n",
      "1 mergeB mergeE, 2 mergeB mergeE  [0, -3, 2, -1]\n",
      "level pair to grow, length old pair, old_pair1, old_pair2, overlap 1 MDfragments 12 13 2\n",
      "fragment 1  ['LEU' 'ASP']\n",
      "fragment 2  ['LEU' 'ASP']\n",
      "promotion in level, pair 1 14\n",
      "overlap in indices fct:  2 1 alnB alnE, 2 alnB alnE  [-3, -2, 1, 2]\n",
      "1 clashB, 2 clashE  [-3, 2]\n",
      "1 mergeB mergeE, 2 mergeB mergeE  [0, -3, 2, -1]\n",
      "level pair to grow, length old pair, old_pair1, old_pair2, overlap 2 1 0 2 2\n",
      "fragment 1  ['PRO' 'MET']\n",
      "fragment 2  ['PRO' 'MET']\n"
     ]
    },
    {
     "name": "stderr",
     "output_type": "stream",
     "text": [
      "/home/lisa/anaconda3/lib/python3.7/site-packages/MDAnalysis/coordinates/XDR.py:215: UserWarning: Reload offsets from trajectory\n",
      " ctime or size or n_atoms did not match\n",
      "  warnings.warn(\"Reload offsets from trajectory\\n \"\n",
      "/home/lisa/anaconda3/lib/python3.7/site-packages/MDAnalysis/lib/mdamath.py:279: RuntimeWarning: invalid value encountered in double_scalars\n",
      "  alpha = np.rad2deg(np.arccos(np.dot(y, z) / (ly * lz)))\n",
      "/home/lisa/anaconda3/lib/python3.7/site-packages/MDAnalysis/lib/mdamath.py:280: RuntimeWarning: invalid value encountered in double_scalars\n",
      "  beta = np.rad2deg(np.arccos(np.dot(x, z) / (lx * lz)))\n",
      "/home/lisa/anaconda3/lib/python3.7/site-packages/MDAnalysis/lib/mdamath.py:281: RuntimeWarning: invalid value encountered in double_scalars\n",
      "  gamma = np.rad2deg(np.arccos(np.dot(x, y) / (lx * ly)))\n"
     ]
    },
    {
     "name": "stdout",
     "output_type": "stream",
     "text": [
      "overlap in indices fct:  2 1 alnB alnE, 2 alnB alnE  [-3, -2, 1, 2]\n",
      "1 clashB, 2 clashE  [-3, 2]\n",
      "1 mergeB mergeE, 2 mergeB mergeE  [0, -3, 2, -1]\n",
      "level pair to grow, length old pair, old_pair1, old_pair2, overlap 2 1 4 6 2\n",
      "fragment 1  ['GLY' 'SER']\n",
      "fragment 2  ['GLY' 'SER']\n",
      "overlap in indices fct:  2 1 alnB alnE, 2 alnB alnE  [-3, -2, 1, 2]\n",
      "1 clashB, 2 clashE  [-3, 2]\n",
      "1 mergeB mergeE, 2 mergeB mergeE  [0, -3, 2, -1]\n",
      "level pair to grow, length old pair, old_pair1, old_pair2, overlap 2 1 8 10 2\n",
      "fragment 1  ['GLY' 'LYS']\n",
      "fragment 2  ['GLY' 'LYS']\n",
      "overlap in indices fct:  4 1 alnB alnE, 2 alnB alnE  [-3, -2, 3, 4]\n",
      "1 clashB, 2 clashE  [-3, 4]\n",
      "1 mergeB mergeE, 2 mergeB mergeE  [0, -3, 4, -1]\n",
      "level pair to grow, length old pair, old_pair1, old_pair2, overlap 2 1 12 14 4\n",
      "fragment 1  ['SER' 'ASN']\n",
      "fragment 2  ['VAL' 'GLN']\n",
      "overlap in indices fct:  2 1 alnB alnE, 2 alnB alnE  [-3, -2, 1, 2]\n",
      "1 clashB, 2 clashE  [-3, 2]\n",
      "1 mergeB mergeE, 2 mergeB mergeE  [0, -3, 2, -1]\n",
      "level pair to grow, length old pair, old_pair1, old_pair2, overlap 3 2 0 4 2\n",
      "fragment 1  ['ASN' 'VAL']\n",
      "fragment 2  ['ASN' 'VAL']\n",
      "overlap in indices fct:  2 1 alnB alnE, 2 alnB alnE  [-3, -2, 1, 2]\n",
      "1 clashB, 2 clashE  [-3, 2]\n",
      "1 mergeB mergeE, 2 mergeB mergeE  [0, -3, 2, -1]\n",
      "level pair to grow, length old pair, old_pair1, old_pair2, overlap 3 2 8 12 2\n",
      "fragment 1  ['ASN' 'LYS']\n",
      "fragment 2  ['ASN' 'LYS']\n",
      "overlap in indices fct:  2 1 alnB alnE, 2 alnB alnE  [-3, -2, 1, 2]\n",
      "1 clashB, 2 clashE  [-3, 2]\n",
      "1 mergeB mergeE, 2 mergeB mergeE  [1, -3, 2, -2]\n",
      "level pair to grow, length old pair, old_pair1, old_pair2, overlap 4 3 0 8 2\n",
      "fragment 1  ['LYS' 'HIS']\n",
      "fragment 2  ['LYS' 'HIS']\n"
     ]
    }
   ],
   "source": [
    "hierarchical_chain_growth(hcg_l, promo_l, overlaps_d, path0, path, kmax=kmax,\n",
    "        capping_groups=capping_groups, verbose=True)"
   ]
  },
  {
   "cell_type": "code",
   "execution_count": null,
   "metadata": {},
   "outputs": [],
   "source": []
  },
  {
   "cell_type": "code",
   "execution_count": null,
   "metadata": {},
   "outputs": [],
   "source": []
  }
 ],
 "metadata": {
  "kernelspec": {
   "display_name": "Python 3",
   "language": "python",
   "name": "python3"
  },
  "language_info": {
   "codemirror_mode": {
    "name": "ipython",
    "version": 3
   },
   "file_extension": ".py",
   "mimetype": "text/x-python",
   "name": "python",
   "nbconvert_exporter": "python",
   "pygments_lexer": "ipython3",
   "version": "3.7.6"
  }
 },
 "nbformat": 4,
 "nbformat_minor": 4
}
