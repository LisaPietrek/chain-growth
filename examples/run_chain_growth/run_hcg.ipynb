{
 "cells": [
  {
   "cell_type": "code",
   "execution_count": null,
   "metadata": {},
   "outputs": [],
   "source": [
    "import sys\n",
    "sys.path.append('../../')\n",
    "from chain_growth.hcg_list import make_hcl_l\n",
    "from chain_growth.fragment_list import generate_fragment_list\n",
    "from chain_growth.hcg_fct import hierarchical_chain_growth"
   ]
  },
  {
   "cell_type": "code",
   "execution_count": null,
   "metadata": {},
   "outputs": [],
   "source": [
    "import numpy as np\n",
    "from time import perf_counter"
   ]
  },
  {
   "cell_type": "markdown",
   "metadata": {},
   "source": [
    "# run hierarchical chain growth for short tau K18 example"
   ]
  },
  {
   "cell_type": "markdown",
   "metadata": {},
   "source": [
    "## prepare HCG\n",
    "### input file and path / output path"
   ]
  },
  {
   "cell_type": "code",
   "execution_count": null,
   "metadata": {},
   "outputs": [],
   "source": [
    "## path to MD fragments\n",
    "path0 = '..'\n",
    "## path to store assembled models in\n",
    "path = 'truncated_tauK18/'\n",
    "# file with sequence, format: \"fasta\" or \"PDB\"\n",
    "sequence_f = '../truncated_tauK18.fasta'"
   ]
  },
  {
   "cell_type": "markdown",
   "metadata": {},
   "source": [
    "### fragment construction"
   ]
  },
  {
   "cell_type": "code",
   "execution_count": null,
   "metadata": {},
   "outputs": [],
   "source": [
    "# length of MD fragments (without the end-capping groups if present)\n",
    "fragment_length = 5\n",
    "# length of the residue overlap between subsequent fragments\n",
    "overlap = 2\n",
    "\n",
    "# generate list of fragments, dictionary of overlaps between fragments\n",
    "# generating overlaps_d is necessary, since to match the full-ltngh sequennce\n",
    "# the overlap between e.g., the two last fragments can vary\n",
    "fragment_l, overlaps_d = generate_fragment_list(sequence_f, fragment_length, overlap)"
   ]
  },
  {
   "cell_type": "code",
   "execution_count": null,
   "metadata": {},
   "outputs": [],
   "source": [
    "from chain_growth.fragment_list import get_sequence"
   ]
  },
  {
   "cell_type": "code",
   "execution_count": null,
   "metadata": {},
   "outputs": [],
   "source": [
    "s = get_sequence(sequence_f).three_letter_list()"
   ]
  },
  {
   "cell_type": "markdown",
   "metadata": {},
   "source": [
    "### lists for HCG"
   ]
  },
  {
   "cell_type": "code",
   "execution_count": null,
   "metadata": {},
   "outputs": [],
   "source": [
    "n_pairs = len(fragment_l)\n",
    "print(fragment_l, overlaps_d, n_pairs)\n",
    "\n",
    "# hcg_l : list of paired fragments\n",
    "# promo_l : list to evaluate if last fragment of level m in hcg_l is promoted to level m+1\n",
    "hcg_l, promo_l = make_hcl_l(n_pairs)"
   ]
  },
  {
   "cell_type": "code",
   "execution_count": null,
   "metadata": {},
   "outputs": [],
   "source": [
    "# maximal number of pairs/full-length models to assemble\n",
    "kmax = 200\n",
    "# MD fragments are sampled with or without end-capping groups\n",
    "capping_groups = True"
   ]
  },
  {
   "cell_type": "markdown",
   "metadata": {
    "tags": []
   },
   "source": [
    "## run HCG"
   ]
  },
  {
   "cell_type": "code",
   "execution_count": null,
   "metadata": {},
   "outputs": [],
   "source": [
    "def estimate_run_time(data):\n",
    "    \"\"\" Estimate run time for HCG - depends on kmax = number of full-length chains to grow \n",
    "                                     and chain length = number amino acids per chain\n",
    "\n",
    "        Keeping one argument fixed and varying the other, the time evolutiob can be described by a linear function for both, kmax and chain length.\n",
    "                Run time is ~ proportional to kmax * chain length.\n",
    "        Therefore we fit a linear function for both arguments and multiply them.\n",
    "        Parameters for functions from a least square fit.\n",
    "        NOTE: The estimated time may overestimate the true run time slightly -  max. 1 minute.\n",
    "        Parameters\n",
    "        ----------\n",
    "        data : numpy array\n",
    "            x = kmax\n",
    "            y = chain length\n",
    "            \n",
    "        Returns\n",
    "        -------\n",
    "        estimated time as float\n",
    "        \n",
    "        Thanks to Johannes Betz.\n",
    "        \n",
    "        \"\"\"\n",
    "    x, y = data\n",
    "    def _fit_linear(p, a, b, c):\n",
    "        return a  + b*p + c*p *np.log(p)\n",
    "    fit_x = _fit_linear(x, 1.719e-01,  1.131e-02, -1.689e-05)\n",
    "    fit_y = _fit_linear(y, 1.236e+01, -7.738e-02,  2.485e-02)\n",
    "    return fit_x * fit_y"
   ]
  },
  {
   "cell_type": "code",
   "execution_count": null,
   "metadata": {},
   "outputs": [],
   "source": [
    "data = np.vstack([kmax, len(s)])\n",
    "expected_time = estimate_run_time(data) # TODO: calc\n",
    "print(expected_time)"
   ]
  },
  {
   "cell_type": "code",
   "execution_count": null,
   "metadata": {},
   "outputs": [],
   "source": [
    "start = perf_counter()\n",
    "hierarchical_chain_growth(hcg_l, promo_l, overlaps_d, path0, path, kmax=kmax, capping_groups=capping_groups, verbose=True)\n",
    "end = perf_counter()"
   ]
  },
  {
   "cell_type": "code",
   "execution_count": null,
   "metadata": {},
   "outputs": [],
   "source": [
    "execution_time = (end - start)\n",
    "execution_time"
   ]
  },
  {
   "cell_type": "code",
   "execution_count": null,
   "metadata": {},
   "outputs": [],
   "source": []
  }
 ],
 "metadata": {
  "kernelspec": {
   "display_name": "Python 3 (ipykernel)",
   "language": "python",
   "name": "python3"
  },
  "language_info": {
   "codemirror_mode": {
    "name": "ipython",
    "version": 3
   },
   "file_extension": ".py",
   "mimetype": "text/x-python",
   "name": "python",
   "nbconvert_exporter": "python",
   "pygments_lexer": "ipython3",
   "version": "3.8.12"
  }
 },
 "nbformat": 4,
 "nbformat_minor": 4
}
